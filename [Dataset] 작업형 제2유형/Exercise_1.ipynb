{
 "cells": [
  {
   "cell_type": "markdown",
   "metadata": {},
   "source": [
    "<h1>빅데이터분석기사 작업형 2 문제 연습</h1>\n",
    "\n",
    "\n",
    "<h3>데이터 로드</h3>"
   ]
  },
  {
   "cell_type": "markdown",
   "metadata": {},
   "source": [
    "<h3>데이터 결측치, 특성 파악</h3>"
   ]
  },
  {
   "cell_type": "code",
   "execution_count": 78,
   "metadata": {},
   "outputs": [
    {
     "name": "stdout",
     "output_type": "stream",
     "text": [
      "X_train 레코드 수: 3500\n",
      "y_train 레코드 수: 3500\n",
      "X_test 레코드 수: 2482\n",
      "      cust_id       총구매액     최대구매액       환불금액   주구매상품 주구매지점  내점일수   내점당구매건수  \\\n",
      "0           0   68282840  11264000  6860000.0      기타   강남점    19  3.894737   \n",
      "1           1    2136000   2136000   300000.0     스포츠   잠실점     2  1.500000   \n",
      "2           2    3197000   1639000        NaN  남성 캐주얼   관악점     2  2.000000   \n",
      "3           3   16077620   4935000        NaN      기타   광주점    18  2.444444   \n",
      "4           4   29050000  24000000        NaN      보석  본  점     2  1.500000   \n",
      "...       ...        ...       ...        ...     ...   ...   ...       ...   \n",
      "3495     3495    3175200   3042900        NaN      골프  본  점     1  2.000000   \n",
      "3496     3496   29628600   7200000  6049600.0    시티웨어  부산본점     8  1.625000   \n",
      "3497     3497      75000     75000        NaN    주방용품   창원점     1  1.000000   \n",
      "3498     3498    1875000   1000000        NaN     화장품  본  점     2  1.000000   \n",
      "3499     3499  263101550  34632000  5973000.0      기타  본  점    38  2.421053   \n",
      "\n",
      "        주말방문비율  구매주기  \n",
      "0     0.527027    17  \n",
      "1     0.000000     1  \n",
      "2     0.000000     1  \n",
      "3     0.318182    16  \n",
      "4     0.000000    85  \n",
      "...        ...   ...  \n",
      "3495  1.000000     0  \n",
      "3496  0.461538    40  \n",
      "3497  0.000000     0  \n",
      "3498  0.000000    39  \n",
      "3499  0.467391     8  \n",
      "\n",
      "[3500 rows x 10 columns]\n",
      "      cust_id  gender\n",
      "0           0       0\n",
      "1           1       0\n",
      "2           2       1\n",
      "3           3       1\n",
      "4           4       0\n",
      "...       ...     ...\n",
      "3495     3495       1\n",
      "3496     3496       1\n",
      "3497     3497       0\n",
      "3498     3498       0\n",
      "3499     3499       0\n",
      "\n",
      "[3500 rows x 2 columns]\n"
     ]
    }
   ],
   "source": [
    "import pandas as pd\n",
    "import numpy as np\n",
    "\n",
    "X_test_path = 'data/X_test.csv'\n",
    "X_train_path = 'data/X_train.csv'\n",
    "y_train_path = 'data/y_train.csv'\n",
    "result_path = 'data/res.csv'\n",
    "\n",
    "# 맥(utf-8)과 윈도우(cp949)의 인코딩 방식 차이로 cp949 인코딩을 이용하여 에러 방지\n",
    "X_test = pd.read_csv(X_test_path, encoding='cp949')\n",
    "X_train = pd.read_csv(X_train_path, encoding='cp949')\n",
    "y_train = pd.read_csv(y_train_path, encoding='cp949')\n",
    "\n",
    "print('X_train 레코드 수:', len(X_train))\n",
    "print('y_train 레코드 수:', len(y_train))\n",
    "print('X_test 레코드 수:', len(X_test))\n",
    "\n",
    "print(X_train)\n",
    "print(y_train)\n",
    "\n",
    "# cust_id 컬럼 모두 제거\n",
    "#X_train = X_train.iloc[:,1:]\n",
    "#X_test = X_test.iloc[:,1:]\n",
    "#y_train = y_train.iloc[:,1]\n",
    "\n"
   ]
  },
  {
   "cell_type": "markdown",
   "metadata": {},
   "source": [
    "<h3>Preprocessing</h3>"
   ]
  },
  {
   "cell_type": "code",
   "execution_count": 98,
   "metadata": {
    "scrolled": true
   },
   "outputs": [
    {
     "name": "stdout",
     "output_type": "stream",
     "text": [
      "      cust_id       총구매액     최대구매액       환불금액  주구매상품  주구매지점  내점일수   내점당구매건수  \\\n",
      "0           0   68282840  11264000  6860000.0      5      0    19  3.894737   \n",
      "1           1    2136000   2136000   300000.0     21     19     2  1.500000   \n",
      "2           2    3197000   1639000        0.0      6      1     2  2.000000   \n",
      "3           3   16077620   4935000        0.0      5      2    18  2.444444   \n",
      "4           4   29050000  24000000        0.0     15      8     2  1.500000   \n",
      "...       ...        ...       ...        ...    ...    ...   ...       ...   \n",
      "3495     3495    3175200   3042900        0.0      3      8     1  2.000000   \n",
      "3496     3496   29628600   7200000  6049600.0     22      9     8  1.625000   \n",
      "3497     3497      75000     75000        0.0     32     21     1  1.000000   \n",
      "3498     3498    1875000   1000000        0.0     41      8     2  1.000000   \n",
      "3499     3499  263101550  34632000  5973000.0      5      8    38  2.421053   \n",
      "\n",
      "        주말방문비율  구매주기  \n",
      "0     0.527027    17  \n",
      "1     0.000000     1  \n",
      "2     0.000000     1  \n",
      "3     0.318182    16  \n",
      "4     0.000000    85  \n",
      "...        ...   ...  \n",
      "3495  1.000000     0  \n",
      "3496  0.461538    40  \n",
      "3497  0.000000     0  \n",
      "3498  0.000000    39  \n",
      "3499  0.467391     8  \n",
      "\n",
      "[3500 rows x 10 columns]\n",
      "cust_id    0.001994\n",
      "총구매액       0.150141\n",
      "최대구매액      0.114323\n",
      "환불금액       0.114327\n",
      "주구매상품      0.038668\n",
      "주구매지점      0.015876\n",
      "내점일수       0.155000\n",
      "내점당구매건수    0.043917\n",
      "주말방문비율     0.073598\n",
      "구매주기       0.041450\n",
      "gender     1.000000\n",
      "Name: gender, dtype: float64\n",
      "           총구매액     최대구매액       환불금액  내점일수    주말방문비율\n",
      "0      68282840  11264000  6860000.0    19  0.527027\n",
      "1       2136000   2136000   300000.0     2  0.000000\n",
      "2       3197000   1639000        0.0     2  0.000000\n",
      "3      16077620   4935000        0.0    18  0.318182\n",
      "4      29050000  24000000        0.0     2  0.000000\n",
      "...         ...       ...        ...   ...       ...\n",
      "3495    3175200   3042900        0.0     1  1.000000\n",
      "3496   29628600   7200000  6049600.0     8  0.461538\n",
      "3497      75000     75000        0.0     1  0.000000\n",
      "3498    1875000   1000000        0.0     2  0.000000\n",
      "3499  263101550  34632000  5973000.0    38  0.467391\n",
      "\n",
      "[3500 rows x 5 columns]\n"
     ]
    }
   ],
   "source": [
    "from sklearn.preprocessing import LabelEncoder\n",
    "\n",
    "encoder = LabelEncoder()\n",
    "\n",
    "# Label Encoding\n",
    "\n",
    "X_train.loc[:,['주구매상품','주구매지점']] \\\n",
    "= X_train.loc[:,['주구매상품','주구매지점']].apply(LabelEncoder().fit_transform)\n",
    "#print(X_train.loc[:,['주구매상품','주구매지점']])\n",
    "\n",
    "X_test.loc[:,['주구매상품','주구매지점']] \\\n",
    "= X_test.loc[:,['주구매상품','주구매지점']].apply(LabelEncoder().fit_transform)\n",
    "#print(X_test.loc[:,['주구매상품','주구매지점']])\n",
    "\n",
    "\n",
    "# drop null\n",
    "X_train.loc[:,['환불금액']] = X_train.loc[:,'환불금액'].fillna(0)\n",
    "X_test.loc[:,['환불금액']] = X_test.loc[:,['환불금액']].fillna(0)\n",
    "    \n",
    "print(X_train)\n",
    "\n",
    "# Check Correlation\n",
    "x_train = pd.merge(X_train, y_train, how = 'inner', on='cust_id')\n",
    "x_train_corr = x_train.corr()\n",
    "print(x_train_corr['gender'].abs())\n",
    "# ['총구매액','최대구매액','환불금액','내점일수','주말방문비율']\n",
    "\n",
    "x_train = x_train.loc[:,['총구매액','최대구매액','환불금액','내점일수','주말방문비율']]\n",
    "y_train = y_train['gender']\n",
    "print(x_train)"
   ]
  },
  {
   "cell_type": "markdown",
   "metadata": {},
   "source": [
    "<h3>Modeling, Predict</h3>"
   ]
  },
  {
   "cell_type": "code",
   "execution_count": 109,
   "metadata": {},
   "outputs": [
    {
     "name": "stdout",
     "output_type": "stream",
     "text": [
      "Logistic Regression model Score:  0.624\n"
     ]
    },
    {
     "ename": "ValueError",
     "evalue": "Shape of passed values is (2482, 3), indices imply (2482, 2)",
     "output_type": "error",
     "traceback": [
      "\u001b[1;31m---------------------------------------------------------------------------\u001b[0m",
      "\u001b[1;31mValueError\u001b[0m                                Traceback (most recent call last)",
      "\u001b[1;32mC:\\ProgramData\\Anaconda3\\lib\\site-packages\\pandas\\core\\internals\\managers.py\u001b[0m in \u001b[0;36mcreate_block_manager_from_blocks\u001b[1;34m(blocks, axes)\u001b[0m\n\u001b[0;32m   1661\u001b[0m                 blocks = [\n\u001b[1;32m-> 1662\u001b[1;33m                     \u001b[0mmake_block\u001b[0m\u001b[1;33m(\u001b[0m\u001b[0mvalues\u001b[0m\u001b[1;33m=\u001b[0m\u001b[0mblocks\u001b[0m\u001b[1;33m[\u001b[0m\u001b[1;36m0\u001b[0m\u001b[1;33m]\u001b[0m\u001b[1;33m,\u001b[0m \u001b[0mplacement\u001b[0m\u001b[1;33m=\u001b[0m\u001b[0mslice\u001b[0m\u001b[1;33m(\u001b[0m\u001b[1;36m0\u001b[0m\u001b[1;33m,\u001b[0m \u001b[0mlen\u001b[0m\u001b[1;33m(\u001b[0m\u001b[0maxes\u001b[0m\u001b[1;33m[\u001b[0m\u001b[1;36m0\u001b[0m\u001b[1;33m]\u001b[0m\u001b[1;33m)\u001b[0m\u001b[1;33m)\u001b[0m\u001b[1;33m)\u001b[0m\u001b[1;33m\u001b[0m\u001b[1;33m\u001b[0m\u001b[0m\n\u001b[0m\u001b[0;32m   1663\u001b[0m                 ]\n",
      "\u001b[1;32mC:\\ProgramData\\Anaconda3\\lib\\site-packages\\pandas\\core\\internals\\blocks.py\u001b[0m in \u001b[0;36mmake_block\u001b[1;34m(values, placement, klass, ndim, dtype)\u001b[0m\n\u001b[0;32m   2721\u001b[0m \u001b[1;33m\u001b[0m\u001b[0m\n\u001b[1;32m-> 2722\u001b[1;33m     \u001b[1;32mreturn\u001b[0m \u001b[0mklass\u001b[0m\u001b[1;33m(\u001b[0m\u001b[0mvalues\u001b[0m\u001b[1;33m,\u001b[0m \u001b[0mndim\u001b[0m\u001b[1;33m=\u001b[0m\u001b[0mndim\u001b[0m\u001b[1;33m,\u001b[0m \u001b[0mplacement\u001b[0m\u001b[1;33m=\u001b[0m\u001b[0mplacement\u001b[0m\u001b[1;33m)\u001b[0m\u001b[1;33m\u001b[0m\u001b[1;33m\u001b[0m\u001b[0m\n\u001b[0m\u001b[0;32m   2723\u001b[0m \u001b[1;33m\u001b[0m\u001b[0m\n",
      "\u001b[1;32mC:\\ProgramData\\Anaconda3\\lib\\site-packages\\pandas\\core\\internals\\blocks.py\u001b[0m in \u001b[0;36m__init__\u001b[1;34m(self, values, placement, ndim)\u001b[0m\n\u001b[0;32m    129\u001b[0m         \u001b[1;32mif\u001b[0m \u001b[0mself\u001b[0m\u001b[1;33m.\u001b[0m\u001b[0m_validate_ndim\u001b[0m \u001b[1;32mand\u001b[0m \u001b[0mself\u001b[0m\u001b[1;33m.\u001b[0m\u001b[0mndim\u001b[0m \u001b[1;32mand\u001b[0m \u001b[0mlen\u001b[0m\u001b[1;33m(\u001b[0m\u001b[0mself\u001b[0m\u001b[1;33m.\u001b[0m\u001b[0mmgr_locs\u001b[0m\u001b[1;33m)\u001b[0m \u001b[1;33m!=\u001b[0m \u001b[0mlen\u001b[0m\u001b[1;33m(\u001b[0m\u001b[0mself\u001b[0m\u001b[1;33m.\u001b[0m\u001b[0mvalues\u001b[0m\u001b[1;33m)\u001b[0m\u001b[1;33m:\u001b[0m\u001b[1;33m\u001b[0m\u001b[1;33m\u001b[0m\u001b[0m\n\u001b[1;32m--> 130\u001b[1;33m             raise ValueError(\n\u001b[0m\u001b[0;32m    131\u001b[0m                 \u001b[1;34mf\"Wrong number of items passed {len(self.values)}, \"\u001b[0m\u001b[1;33m\u001b[0m\u001b[1;33m\u001b[0m\u001b[0m\n",
      "\u001b[1;31mValueError\u001b[0m: Wrong number of items passed 3, placement implies 2",
      "\nDuring handling of the above exception, another exception occurred:\n",
      "\u001b[1;31mValueError\u001b[0m                                Traceback (most recent call last)",
      "\u001b[1;32m<ipython-input-109-8ad921fb180a>\u001b[0m in \u001b[0;36m<module>\u001b[1;34m\u001b[0m\n\u001b[0;32m      7\u001b[0m \u001b[1;33m\u001b[0m\u001b[0m\n\u001b[0;32m      8\u001b[0m \u001b[0mpred\u001b[0m \u001b[1;33m=\u001b[0m \u001b[0mmodel\u001b[0m\u001b[1;33m.\u001b[0m\u001b[0mpredict_proba\u001b[0m\u001b[1;33m(\u001b[0m\u001b[0mX_test\u001b[0m\u001b[1;33m.\u001b[0m\u001b[0mloc\u001b[0m\u001b[1;33m[\u001b[0m\u001b[1;33m:\u001b[0m\u001b[1;33m,\u001b[0m\u001b[1;33m[\u001b[0m\u001b[1;34m'총구매액'\u001b[0m\u001b[1;33m,\u001b[0m\u001b[1;34m'최대구매액'\u001b[0m\u001b[1;33m,\u001b[0m\u001b[1;34m'환불금액'\u001b[0m\u001b[1;33m,\u001b[0m\u001b[1;34m'내점일수'\u001b[0m\u001b[1;33m,\u001b[0m\u001b[1;34m'주말방문비율'\u001b[0m\u001b[1;33m]\u001b[0m\u001b[1;33m]\u001b[0m\u001b[1;33m)\u001b[0m\u001b[1;33m\u001b[0m\u001b[1;33m\u001b[0m\u001b[0m\n\u001b[1;32m----> 9\u001b[1;33m \u001b[0mres\u001b[0m \u001b[1;33m=\u001b[0m \u001b[0mpd\u001b[0m\u001b[1;33m.\u001b[0m\u001b[0mDataFrame\u001b[0m\u001b[1;33m(\u001b[0m\u001b[0mnp\u001b[0m\u001b[1;33m.\u001b[0m\u001b[0mc_\u001b[0m\u001b[1;33m[\u001b[0m\u001b[0mX_test\u001b[0m\u001b[1;33m[\u001b[0m\u001b[1;34m'cust_id'\u001b[0m\u001b[1;33m]\u001b[0m\u001b[1;33m,\u001b[0m\u001b[0mpred\u001b[0m\u001b[1;33m]\u001b[0m\u001b[1;33m,\u001b[0m\u001b[0mcolumns\u001b[0m\u001b[1;33m=\u001b[0m\u001b[1;33m[\u001b[0m\u001b[1;34m'cust_id'\u001b[0m\u001b[1;33m,\u001b[0m\u001b[1;34m'gender'\u001b[0m\u001b[1;33m]\u001b[0m\u001b[1;33m)\u001b[0m\u001b[1;33m\u001b[0m\u001b[1;33m\u001b[0m\u001b[0m\n\u001b[0m\u001b[0;32m     10\u001b[0m \u001b[1;33m\u001b[0m\u001b[0m\n\u001b[0;32m     11\u001b[0m \u001b[0mres\u001b[0m\u001b[1;33m.\u001b[0m\u001b[0mto_csv\u001b[0m\u001b[1;33m(\u001b[0m\u001b[0mresult_path\u001b[0m\u001b[1;33m,\u001b[0m\u001b[0mindex\u001b[0m\u001b[1;33m=\u001b[0m\u001b[1;32mFalse\u001b[0m\u001b[1;33m)\u001b[0m\u001b[1;33m\u001b[0m\u001b[1;33m\u001b[0m\u001b[0m\n",
      "\u001b[1;32mC:\\ProgramData\\Anaconda3\\lib\\site-packages\\pandas\\core\\frame.py\u001b[0m in \u001b[0;36m__init__\u001b[1;34m(self, data, index, columns, dtype, copy)\u001b[0m\n\u001b[0;32m    495\u001b[0m                 \u001b[0mmgr\u001b[0m \u001b[1;33m=\u001b[0m \u001b[0minit_dict\u001b[0m\u001b[1;33m(\u001b[0m\u001b[1;33m{\u001b[0m\u001b[0mdata\u001b[0m\u001b[1;33m.\u001b[0m\u001b[0mname\u001b[0m\u001b[1;33m:\u001b[0m \u001b[0mdata\u001b[0m\u001b[1;33m}\u001b[0m\u001b[1;33m,\u001b[0m \u001b[0mindex\u001b[0m\u001b[1;33m,\u001b[0m \u001b[0mcolumns\u001b[0m\u001b[1;33m,\u001b[0m \u001b[0mdtype\u001b[0m\u001b[1;33m=\u001b[0m\u001b[0mdtype\u001b[0m\u001b[1;33m)\u001b[0m\u001b[1;33m\u001b[0m\u001b[1;33m\u001b[0m\u001b[0m\n\u001b[0;32m    496\u001b[0m             \u001b[1;32melse\u001b[0m\u001b[1;33m:\u001b[0m\u001b[1;33m\u001b[0m\u001b[1;33m\u001b[0m\u001b[0m\n\u001b[1;32m--> 497\u001b[1;33m                 \u001b[0mmgr\u001b[0m \u001b[1;33m=\u001b[0m \u001b[0minit_ndarray\u001b[0m\u001b[1;33m(\u001b[0m\u001b[0mdata\u001b[0m\u001b[1;33m,\u001b[0m \u001b[0mindex\u001b[0m\u001b[1;33m,\u001b[0m \u001b[0mcolumns\u001b[0m\u001b[1;33m,\u001b[0m \u001b[0mdtype\u001b[0m\u001b[1;33m=\u001b[0m\u001b[0mdtype\u001b[0m\u001b[1;33m,\u001b[0m \u001b[0mcopy\u001b[0m\u001b[1;33m=\u001b[0m\u001b[0mcopy\u001b[0m\u001b[1;33m)\u001b[0m\u001b[1;33m\u001b[0m\u001b[1;33m\u001b[0m\u001b[0m\n\u001b[0m\u001b[0;32m    498\u001b[0m \u001b[1;33m\u001b[0m\u001b[0m\n\u001b[0;32m    499\u001b[0m         \u001b[1;31m# For data is list-like, or Iterable (will consume into list)\u001b[0m\u001b[1;33m\u001b[0m\u001b[1;33m\u001b[0m\u001b[1;33m\u001b[0m\u001b[0m\n",
      "\u001b[1;32mC:\\ProgramData\\Anaconda3\\lib\\site-packages\\pandas\\core\\internals\\construction.py\u001b[0m in \u001b[0;36minit_ndarray\u001b[1;34m(values, index, columns, dtype, copy)\u001b[0m\n\u001b[0;32m    232\u001b[0m         \u001b[0mblock_values\u001b[0m \u001b[1;33m=\u001b[0m \u001b[1;33m[\u001b[0m\u001b[0mvalues\u001b[0m\u001b[1;33m]\u001b[0m\u001b[1;33m\u001b[0m\u001b[1;33m\u001b[0m\u001b[0m\n\u001b[0;32m    233\u001b[0m \u001b[1;33m\u001b[0m\u001b[0m\n\u001b[1;32m--> 234\u001b[1;33m     \u001b[1;32mreturn\u001b[0m \u001b[0mcreate_block_manager_from_blocks\u001b[0m\u001b[1;33m(\u001b[0m\u001b[0mblock_values\u001b[0m\u001b[1;33m,\u001b[0m \u001b[1;33m[\u001b[0m\u001b[0mcolumns\u001b[0m\u001b[1;33m,\u001b[0m \u001b[0mindex\u001b[0m\u001b[1;33m]\u001b[0m\u001b[1;33m)\u001b[0m\u001b[1;33m\u001b[0m\u001b[1;33m\u001b[0m\u001b[0m\n\u001b[0m\u001b[0;32m    235\u001b[0m \u001b[1;33m\u001b[0m\u001b[0m\n\u001b[0;32m    236\u001b[0m \u001b[1;33m\u001b[0m\u001b[0m\n",
      "\u001b[1;32mC:\\ProgramData\\Anaconda3\\lib\\site-packages\\pandas\\core\\internals\\managers.py\u001b[0m in \u001b[0;36mcreate_block_manager_from_blocks\u001b[1;34m(blocks, axes)\u001b[0m\n\u001b[0;32m   1670\u001b[0m         \u001b[0mblocks\u001b[0m \u001b[1;33m=\u001b[0m \u001b[1;33m[\u001b[0m\u001b[0mgetattr\u001b[0m\u001b[1;33m(\u001b[0m\u001b[0mb\u001b[0m\u001b[1;33m,\u001b[0m \u001b[1;34m\"values\"\u001b[0m\u001b[1;33m,\u001b[0m \u001b[0mb\u001b[0m\u001b[1;33m)\u001b[0m \u001b[1;32mfor\u001b[0m \u001b[0mb\u001b[0m \u001b[1;32min\u001b[0m \u001b[0mblocks\u001b[0m\u001b[1;33m]\u001b[0m\u001b[1;33m\u001b[0m\u001b[1;33m\u001b[0m\u001b[0m\n\u001b[0;32m   1671\u001b[0m         \u001b[0mtot_items\u001b[0m \u001b[1;33m=\u001b[0m \u001b[0msum\u001b[0m\u001b[1;33m(\u001b[0m\u001b[0mb\u001b[0m\u001b[1;33m.\u001b[0m\u001b[0mshape\u001b[0m\u001b[1;33m[\u001b[0m\u001b[1;36m0\u001b[0m\u001b[1;33m]\u001b[0m \u001b[1;32mfor\u001b[0m \u001b[0mb\u001b[0m \u001b[1;32min\u001b[0m \u001b[0mblocks\u001b[0m\u001b[1;33m)\u001b[0m\u001b[1;33m\u001b[0m\u001b[1;33m\u001b[0m\u001b[0m\n\u001b[1;32m-> 1672\u001b[1;33m         \u001b[1;32mraise\u001b[0m \u001b[0mconstruction_error\u001b[0m\u001b[1;33m(\u001b[0m\u001b[0mtot_items\u001b[0m\u001b[1;33m,\u001b[0m \u001b[0mblocks\u001b[0m\u001b[1;33m[\u001b[0m\u001b[1;36m0\u001b[0m\u001b[1;33m]\u001b[0m\u001b[1;33m.\u001b[0m\u001b[0mshape\u001b[0m\u001b[1;33m[\u001b[0m\u001b[1;36m1\u001b[0m\u001b[1;33m:\u001b[0m\u001b[1;33m]\u001b[0m\u001b[1;33m,\u001b[0m \u001b[0maxes\u001b[0m\u001b[1;33m,\u001b[0m \u001b[0me\u001b[0m\u001b[1;33m)\u001b[0m\u001b[1;33m\u001b[0m\u001b[1;33m\u001b[0m\u001b[0m\n\u001b[0m\u001b[0;32m   1673\u001b[0m \u001b[1;33m\u001b[0m\u001b[0m\n\u001b[0;32m   1674\u001b[0m \u001b[1;33m\u001b[0m\u001b[0m\n",
      "\u001b[1;31mValueError\u001b[0m: Shape of passed values is (2482, 3), indices imply (2482, 2)"
     ]
    }
   ],
   "source": [
    "from sklearn import linear_model\n",
    "\n",
    "model = linear_model.LogisticRegression()\n",
    "model.fit(X = x_train, y = y_train)\n",
    "\n",
    "print('Logistic Regression model Score: ',model.score(x_train, y_train))\n",
    "\n",
    "pred = model.predict_proba(X_test.loc[:,['총구매액','최대구매액','환불금액','내점일수','주말방문비율']])\n",
    "res = pd.DataFrame(np.c_[X_test['cust_id'],pred],columns=['cust_id','gender'])\n",
    "\n",
    "res.to_csv(result_path,index=False)"
   ]
  }
 ],
 "metadata": {
  "kernelspec": {
   "display_name": "Python 3",
   "language": "python",
   "name": "python3"
  },
  "language_info": {
   "codemirror_mode": {
    "name": "ipython",
    "version": 3
   },
   "file_extension": ".py",
   "mimetype": "text/x-python",
   "name": "python",
   "nbconvert_exporter": "python",
   "pygments_lexer": "ipython3",
   "version": "3.8.5"
  }
 },
 "nbformat": 4,
 "nbformat_minor": 4
}
