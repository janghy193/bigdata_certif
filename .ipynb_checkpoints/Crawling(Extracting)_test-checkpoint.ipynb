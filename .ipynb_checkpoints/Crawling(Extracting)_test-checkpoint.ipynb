{
 "cells": [
  {
   "cell_type": "code",
   "execution_count": 19,
   "metadata": {},
   "outputs": [
    {
     "name": "stdout",
     "output_type": "stream",
     "text": [
      "1\n",
      "contents:\n",
      " <h3 class=\"title\"><a href=\"https://www.naver.com/NOTICE\">공지사항</a> </h3>\n",
      "text:\n",
      " 공지사항 \n",
      "class:\n",
      " title\n",
      "href:\n",
      " None\n",
      "\n",
      "2\n",
      "contents:\n",
      " <h3 class=\"title\">Creators</h3>\n",
      "text:\n",
      " Creators\n",
      "class:\n",
      " title\n",
      "href:\n",
      " None\n",
      "\n",
      "3\n",
      "contents:\n",
      " <h3 class=\"title\">Partners</h3>\n",
      "text:\n",
      " Partners\n",
      "class:\n",
      " title\n",
      "href:\n",
      " None\n",
      "\n",
      "4\n",
      "contents:\n",
      " <h3 class=\"title\">Developers</h3>\n",
      "text:\n",
      " Developers\n",
      "class:\n",
      " title\n",
      "href:\n",
      " None\n",
      "\n",
      "5\n",
      "contents:\n",
      " <h3 class=\"blind\">네이버 정책 및 약관</h3>\n",
      "text:\n",
      " 네이버 정책 및 약관\n",
      "class:\n",
      " blind\n",
      "href:\n",
      " None\n",
      "\n"
     ]
    }
   ],
   "source": [
    "# Beautiful Soup + requests\n",
    "\n",
    "from bs4 import BeautifulSoup\n",
    "import requests\n",
    "\n",
    "\n",
    "#\n",
    "req = requests.get(\"http://www.naver.com\")\n",
    "\n",
    "#\n",
    "html = req.text\n",
    "#print(html)\n",
    "\n",
    "\n",
    "soup = BeautifulSoup(html, 'html.parser')\n",
    "h3s = soup.select('h3')\n",
    "\n",
    "i = 1\n",
    "for h3 in h3s:\n",
    "    \n",
    "    print(i)\n",
    "    print('contents:\\n',h3)\n",
    "    print('text:\\n',h3.get_text())\n",
    "    print('class:\\n',h3.get('class')[0])\n",
    "    print('href:\\n',h3.get('a'))\n",
    "    i+=1\n",
    "    print()"
   ]
  },
  {
   "cell_type": "code",
   "execution_count": null,
   "metadata": {},
   "outputs": [],
   "source": []
  }
 ],
 "metadata": {
  "kernelspec": {
   "display_name": "Python 3",
   "language": "python",
   "name": "python3"
  },
  "language_info": {
   "codemirror_mode": {
    "name": "ipython",
    "version": 3
   },
   "file_extension": ".py",
   "mimetype": "text/x-python",
   "name": "python",
   "nbconvert_exporter": "python",
   "pygments_lexer": "ipython3",
   "version": "3.8.5"
  }
 },
 "nbformat": 4,
 "nbformat_minor": 4
}
